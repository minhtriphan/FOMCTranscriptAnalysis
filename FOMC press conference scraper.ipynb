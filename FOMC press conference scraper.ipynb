{
 "cells": [
  {
   "cell_type": "code",
   "execution_count": null,
   "metadata": {},
   "outputs": [],
   "source": [
    "# Scraping the minutes\n",
    "from bs4 import BeautifulSoup\n",
    "import requests\n",
    "import re\n",
    "import urllib.request\n",
    "import os\n",
    "\n",
    "# We are only interested in the \"Transcripts\" in this kernel\n",
    "l_presconf = len(\"fomcpresconf\")\n",
    "presconf_links = {}\n",
    "\n",
    "# Before storing the links, we have some pitfalls to notice:\n",
    "# Since before 2014, all releases are stored in a different\n",
    "# URL as that after 2014, we split the code into 2 subparts\n",
    "\n",
    "for year in range(1982, 2020): # from 1982 - 2013\n",
    "    if year < 2014:\n",
    "        base_url = \"https://www.federalreserve.gov/monetarypolicy/\"\n",
    "        path = \"fomchistorical\" + str(year) + \".htm\"\n",
    "        html_doc = requests.get(base_url + path)\n",
    "        soup = BeautifulSoup(html_doc.content, 'html.parser')\n",
    "        links = soup.find_all(\"a\", string = re.compile(\"Transcript .*\"))\n",
    "        link_base_url = \"https://www.federalreserve.gov\"\n",
    "        presconf_links[str(year)] = [link_base_url + link[\"href\"] for link in links]\n",
    "        print(\"Year Completed \", year)\n",
    "    else:\n",
    "        # After 2014, since all years are located in only one URL, we try to extract them out\n",
    "        original_url = \"https://www.federalreserve.gov/monetarypolicy/fomccalendars.htm\"\n",
    "        html_doc = requests.get(original_url)\n",
    "        soup = BeautifulSoup(html_doc.content, 'html.parser')\n",
    "        links = soup.find_all(\"a\", string = re.compile(\"Press Conference\"))\n",
    "        link_base_url = \"https://www.federalreserve.gov\"\n",
    "        # URL for each year\n",
    "        base_url = []\n",
    "        l_presconf = len(\"fomcpresconf\")\n",
    "        for link in links:\n",
    "            p = re.compile(\"[^/]*$\")\n",
    "            if p.search(link.get(\"href\")).group()[:(l_presconf+4)] == 'fomcpresconf' + str(year):\n",
    "                base_url.append(link_base_url + link[\"href\"])\n",
    "        final_link = []\n",
    "        for url in base_url:\n",
    "            html = requests.get(url)\n",
    "            soup = BeautifulSoup(html.content, 'html.parser')\n",
    "            links = soup.find_all(\"a\", string = re.compile(\"Press Conference Transcript\"))\n",
    "            link_base_url = \"https://www.federalreserve.gov\"\n",
    "            for link in links:\n",
    "                final_link.append(link_base_url + link[\"href\"])\n",
    "        presconf_links[str(year)] = final_link\n",
    "        print(\"Year Completed \", year)"
   ]
  },
  {
   "cell_type": "code",
   "execution_count": null,
   "metadata": {},
   "outputs": [],
   "source": [
    "# Now, scraping the press conference transcripts:\n",
    "for year in presconf_links.keys():\n",
    "    # if the folder does not exist, open it\n",
    "    if not os.path.exists(\"./FOMCpctranscript/\" + year):\n",
    "        os.makedirs(\"./FOMCpctranscript/\" + year)\n",
    "    for link in presconf_links[year]:\n",
    "        response = urllib.request.urlopen(str(link))\n",
    "        name = re.search(\"[^/]*$\", str(link))\n",
    "        print(link)\n",
    "        with open(\"./FOMCpctranscript/\" + year + \"/\" + name.group(), 'wb') as f:\n",
    "            f.write(response.read())\n",
    "        print(\"file downloaded\")"
   ]
  }
 ],
 "metadata": {
  "kernelspec": {
   "display_name": "Python 3",
   "language": "python",
   "name": "python3"
  },
  "language_info": {
   "codemirror_mode": {
    "name": "ipython",
    "version": 3
   },
   "file_extension": ".py",
   "mimetype": "text/x-python",
   "name": "python",
   "nbconvert_exporter": "python",
   "pygments_lexer": "ipython3",
   "version": "3.7.1"
  }
 },
 "nbformat": 4,
 "nbformat_minor": 2
}
